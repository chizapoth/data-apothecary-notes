{
  "cells": [
    {
      "cell_type": "markdown",
      "metadata": {},
      "source": [
        "---\n",
        "title: \"Cheatsheet: Result processing\"\n",
        "description: |\n",
        "  Refer to the jupyter notebook for rendered code.\n",
        "author: \"Chi Zhang\"\n",
        "date: \"2025-02-27\"\n",
        "categories: [Python]\n",
        "sidebar: false\n",
        "code-block-bg: true\n",
        "code-block-border-left: true\n",
        "jupyter: python3\n",
        "format: \n",
        "  html:\n",
        "    toc: true\n",
        "    toc-depth: 3\n",
        "    code-fold: false\n",
        "    code-tools: false\n",
        "    code-annotations: select\n",
        "---\n",
        "\n",
        "\n",
        "# Multiple classifiers\n",
        "\n",
        "This is handy when you want to train multiple classifiers and store the results in a structured way. Similar to **lists** in R.\n",
        "\n",
        "### Set up dictionary\n",
        "\n",
        "```python\n",
        "classifiers = {\n",
        "    'LR1': LogisticRegression(multi_class='multinomial', C=10, penalty='l1', solver='saga'),\n",
        "    'LR2': LogisticRegression(multi_class='multinomial', C=10, penalty='l2', solver='saga')\n",
        "}\n",
        "```\n",
        "\n",
        "Can check some information on the dictionary, with `len(classificers)` and `.items()`, `.keys()` and `values()`.\n",
        "\n",
        "To access the items inside a dictionary, use `dict['key1']`.\n",
        "\n",
        "```python\n",
        "classifiers['LR1'].fit(Xtrain, ytrain)\n",
        "classifiers['LR1'].predict(Xtest)\n",
        "```\n",
        "Print out the information\n",
        "\n",
        "```python\n",
        "for name, model in classifiers.items():\n",
        "    print(name)\n",
        "    print(model)\n",
        "```\n",
        "\n",
        "\n",
        "### Run the classifiers\n",
        "\n",
        "Want to run the classifiers together: set up the result dictionary to hold the outputs of potentially different structures. Remember to save them into the right name! \n",
        "\n",
        "```python\n",
        "results = {}\n",
        "\n",
        "# name extracts the key (can be x, i, whatever)\n",
        "# model refers to the content\n",
        "\n",
        "for name, model in classifiers.items():\n",
        "    model.fit(Xtrain, y_train)\n",
        "    yhat = model.predict(Xtest)\n",
        "    accuracy = accuracy_score(y_test, yhat)\n",
        "\n",
        "    # save results. it has to be saved in the proper name\n",
        "    results[name] = {\n",
        "        'model': name,\n",
        "        'accuracy': accuracy,\n",
        "        'coefficients': model.coef_,\n",
        "        'intercept': model.intercept_,\n",
        "        'yhat': yhat\n",
        "    }\n",
        "```\n",
        "\n",
        "### Investigate results\n",
        "\n",
        "Say that the results look like the following format. "
      ],
      "id": "87b98f1d"
    },
    {
      "cell_type": "code",
      "metadata": {},
      "source": [
        "import numpy as np\n",
        "import pandas as pd\n",
        "\n",
        "model1 = {\n",
        "    'accuracy': 0.95,\n",
        "    'yhat': np.array([1,3,5])\n",
        "}\n",
        "model2 = {\n",
        "    'accuracy': 0.97,\n",
        "    'yhat': np.array([1,4,6])\n",
        "}\n",
        "# put them together. remember dictionary must have a key, can not simply do {model1, model2}!\n",
        "results = {\n",
        "    'model1': model1,\n",
        "    'model2': model2\n",
        "}\n",
        "results"
      ],
      "id": "25735678",
      "execution_count": null,
      "outputs": []
    },
    {
      "cell_type": "markdown",
      "metadata": {},
      "source": [
        "Quick glance: `results.items()`, `results.keys()`"
      ],
      "id": "85154391"
    },
    {
      "cell_type": "code",
      "metadata": {},
      "source": [
        "results.keys()"
      ],
      "id": "fa369c3f",
      "execution_count": null,
      "outputs": []
    },
    {
      "cell_type": "code",
      "metadata": {},
      "source": [
        "results.items()"
      ],
      "id": "c72d5e49",
      "execution_count": null,
      "outputs": []
    },
    {
      "cell_type": "markdown",
      "metadata": {},
      "source": [
        "Get all the results from the first key ('model1')"
      ],
      "id": "873a9ad7"
    },
    {
      "cell_type": "code",
      "metadata": {},
      "source": [
        "results['model1']"
      ],
      "id": "bfcf2485",
      "execution_count": null,
      "outputs": []
    },
    {
      "cell_type": "markdown",
      "metadata": {},
      "source": [
        "More specific, just get `accuracy`."
      ],
      "id": "55ca4189"
    },
    {
      "cell_type": "code",
      "metadata": {},
      "source": [
        "results['model1']['accuracy']"
      ],
      "id": "1e2ed9fa",
      "execution_count": null,
      "outputs": []
    },
    {
      "cell_type": "markdown",
      "metadata": {},
      "source": [
        "### Extract results with dictionary comprehension\n",
        "\n",
        "Here we need to use **list comprehension** and **dictionary comprehension**. Recall that with LC, the syntax goes like `[<expression> for <item> in <iterable>]`."
      ],
      "id": "3229a665"
    },
    {
      "cell_type": "code",
      "metadata": {},
      "source": [
        "# all the elements\n",
        "[x for x in results.values()]"
      ],
      "id": "1a4c313a",
      "execution_count": null,
      "outputs": []
    },
    {
      "cell_type": "markdown",
      "metadata": {},
      "source": [
        "Combine with dictionary syntax (the expression), to get `model_x['accuracy']` for both models:"
      ],
      "id": "60961088"
    },
    {
      "cell_type": "code",
      "metadata": {},
      "source": [
        "# certain item only\n",
        "[x['accuracy'] for x in results.values()]"
      ],
      "id": "57e9b014",
      "execution_count": null,
      "outputs": []
    },
    {
      "cell_type": "markdown",
      "metadata": {},
      "source": [
        "This can also be presented as a dataframe too."
      ],
      "id": "71186904"
    },
    {
      "cell_type": "code",
      "metadata": {},
      "source": [
        "accuracy = pd.DataFrame([x['accuracy'] for x in results.values()])\n",
        "accuracy # can do accuracy.T  to change the layout"
      ],
      "id": "baed90d6",
      "execution_count": null,
      "outputs": []
    },
    {
      "cell_type": "markdown",
      "metadata": {},
      "source": [
        "Can do it to arrays too."
      ],
      "id": "f724d48f"
    },
    {
      "cell_type": "code",
      "metadata": {},
      "source": [
        "[x['yhat'] for x in results.values()]"
      ],
      "id": "3f893182",
      "execution_count": null,
      "outputs": []
    },
    {
      "cell_type": "markdown",
      "metadata": {},
      "source": [
        "### Changing names for the result dataframe\n",
        "\n",
        "Do it with `df.rename(columns = {'old':'new'})`"
      ],
      "id": "7fae36aa"
    },
    {
      "cell_type": "code",
      "metadata": {},
      "source": [
        "accuracy.rename(columns = {0:'accuracies'})"
      ],
      "id": "e48f46e8",
      "execution_count": null,
      "outputs": []
    },
    {
      "cell_type": "markdown",
      "metadata": {},
      "source": [
        "### Dictionary comprehension\n",
        "\n",
        "Dictionary comprehension is similar to LC, and it's more handy when keys are involved for later. Note that here we are extracting from `results.items()` rather than `values()`. "
      ],
      "id": "db6ec136"
    },
    {
      "cell_type": "code",
      "metadata": {},
      "source": [
        "{key: {'accuracy': value['accuracy']} for key, value in results.items()}"
      ],
      "id": "f0cf4830",
      "execution_count": null,
      "outputs": []
    },
    {
      "cell_type": "markdown",
      "metadata": {},
      "source": [
        "The results here can be put directly into a dataframe."
      ],
      "id": "d1e83645"
    },
    {
      "cell_type": "code",
      "metadata": {},
      "source": [
        "a = {key: {'accuracy': value['accuracy']} for key, value in results.items()}\n",
        "pd.DataFrame(a)"
      ],
      "id": "46613a4e",
      "execution_count": null,
      "outputs": []
    },
    {
      "cell_type": "code",
      "metadata": {},
      "source": [
        "yhats = pd.DataFrame({key: {'yhat': value['yhat']} for key, value in results.items()})\n",
        "yhats"
      ],
      "id": "e8cce3c5",
      "execution_count": null,
      "outputs": []
    },
    {
      "cell_type": "markdown",
      "metadata": {},
      "source": [
        "# Visualize results "
      ],
      "id": "df8644aa"
    },
    {
      "cell_type": "code",
      "metadata": {},
      "source": [
        "import matplotlib.pyplot as plt\n",
        "import seaborn as sns\n",
        "from sklearn.datasets import make_blobs\n",
        "\n",
        "# from code_py.sklearn_1 import Xtrain\n",
        "\n",
        "X, y = make_blobs(n_samples=300,\n",
        "                  centers=4,\n",
        "                  random_state=0,\n",
        "                  cluster_std=1)\n",
        "                  \n",
        "# plot the two dimensions of X; color with the class in y\n",
        "\n",
        "sns.scatterplot(x = X[:,0], y = X[:,1], hue=y, palette=sns.color_palette(\"hls\", 4))\n",
        "plt.show();"
      ],
      "id": "2c4da8af",
      "execution_count": null,
      "outputs": []
    },
    {
      "cell_type": "markdown",
      "metadata": {},
      "source": [
        "### Decision tree example"
      ],
      "id": "a12d5ef6"
    },
    {
      "cell_type": "code",
      "metadata": {},
      "source": [
        "# split the data\n",
        "from sklearn.model_selection import train_test_split\n",
        "Xtrain, Xtest, ytrain, ytest = train_test_split(X, y, test_size=0.3,random_state=42)\n",
        "\n",
        "# fit a decision tree\n",
        "from sklearn.tree import DecisionTreeClassifier\n",
        "tree = DecisionTreeClassifier().fit(Xtrain, ytrain)\n",
        "\n",
        "# make prediction\n",
        "ytest_pred = tree.predict(Xtest)\n",
        "ytest_pred[0:5]"
      ],
      "id": "1b750df3",
      "execution_count": null,
      "outputs": []
    },
    {
      "cell_type": "markdown",
      "metadata": {},
      "source": [
        "Now we try to visualise the results. First put the predictions along with the original data, and then add a label for whether there is a mismatch."
      ],
      "id": "bac21780"
    },
    {
      "cell_type": "code",
      "metadata": {},
      "source": [
        "# tt = pd.DataFrame(Xtest, columns=['x1', 'x2'])\n",
        "# tt['new'] = ytest\n",
        "\n",
        "mat = np.column_stack((Xtest, ytest, ytest_pred))\n",
        "test_df = pd.DataFrame(mat, columns=['x1', 'x2', 'y', 'pred'])\n",
        "\n",
        "# add a new column where y and pred do not match\n",
        "test_df['mismatch'] = np.where(test_df['y'] != test_df['pred'], 1, 0)\n",
        "test_df.head()"
      ],
      "id": "b84b3acc",
      "execution_count": null,
      "outputs": []
    },
    {
      "cell_type": "markdown",
      "metadata": {},
      "source": [
        "Now visualize"
      ],
      "id": "ec31395b"
    },
    {
      "cell_type": "code",
      "metadata": {},
      "source": [
        "# visualize based on mismatch status\n",
        "sns.relplot(data = test_df,\n",
        "            x = 'x1',\n",
        "            y = 'x2',\n",
        "            col = 'mismatch',\n",
        "            hue = 'y',\n",
        "            palette=sns.color_palette(\"hls\", 4))\n",
        "plt.show();"
      ],
      "id": "3433f4b7",
      "execution_count": null,
      "outputs": []
    },
    {
      "cell_type": "markdown",
      "metadata": {},
      "source": [
        "Another way to visualize\n"
      ],
      "id": "e7509f16"
    },
    {
      "cell_type": "code",
      "metadata": {},
      "source": [
        "sns.scatterplot(data = test_df,\n",
        "                x = 'x1',\n",
        "                y = 'x2',\n",
        "                hue = 'y',\n",
        "                style = 'mismatch',\n",
        "                palette=sns.color_palette(\"hls\", 4))\n",
        "plt.show();"
      ],
      "id": "a2001f4d",
      "execution_count": null,
      "outputs": []
    }
  ],
  "metadata": {
    "kernelspec": {
      "name": "python3",
      "language": "python",
      "display_name": "Python 3 (ipykernel)",
      "path": "/Users/chizhang/.pyenv/versions/3.12.7/envs/mypydev312/share/jupyter/kernels/python3"
    }
  },
  "nbformat": 4,
  "nbformat_minor": 5
}