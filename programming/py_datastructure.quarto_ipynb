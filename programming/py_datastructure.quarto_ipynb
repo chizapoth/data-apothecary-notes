{
  "cells": [
    {
      "cell_type": "markdown",
      "metadata": {},
      "source": [
        "---\n",
        "title: \"Python data structure\"\n",
        "description: |\n",
        "  Python basics\n",
        "author: \"Chi Zhang\"\n",
        "date: \"2024-12-02\"\n",
        "categories: [Python]\n",
        "sidebar: false\n",
        "code-block-bg: true\n",
        "code-block-border-left: true\n",
        "jupyter: python3\n",
        "format: \n",
        "  html:\n",
        "    toc: true\n",
        "    toc-depth: 3\n",
        "    code-fold: false\n",
        "    code-tools: false\n",
        "    code-annotations: select\n",
        "---\n",
        "\n",
        "> Resources: [Python Data Science Handbook](https://jakevdp.github.io/PythonDataScienceHandbook/) by Jake VanderPlas\n",
        "\n",
        "\n",
        "### Strings"
      ],
      "id": "c93c319d"
    },
    {
      "cell_type": "code",
      "metadata": {},
      "source": [
        "print('Winter' + 'Park')"
      ],
      "id": "a34c197c",
      "execution_count": null,
      "outputs": []
    },
    {
      "cell_type": "markdown",
      "metadata": {},
      "source": [
        "Check data types"
      ],
      "id": "98e70cc3"
    },
    {
      "cell_type": "code",
      "metadata": {},
      "source": [
        "movie = 'Matrix'\n",
        "print(type(movie))"
      ],
      "id": "be55edeb",
      "execution_count": null,
      "outputs": []
    },
    {
      "cell_type": "code",
      "metadata": {},
      "source": [
        "channel = 'cnn'\n",
        "print(channel.upper())  # CNN\n",
        "print(channel.capitalize()) # Cnn\n",
        "print(channel.find('c')) # first\n",
        "print(len(channel)) "
      ],
      "id": "fc04cd73",
      "execution_count": null,
      "outputs": []
    },
    {
      "cell_type": "markdown",
      "metadata": {},
      "source": [
        "### Useful functions"
      ],
      "id": "98ce59ac"
    },
    {
      "cell_type": "code",
      "metadata": {},
      "source": [
        "movies = ['Avatar', 'Titanic', 'Alien']\n",
        "movies.append('Avengers')\n",
        "movies.insert(2, 'Terminator')\n",
        "print(movies[3])"
      ],
      "id": "fbaa315d",
      "execution_count": null,
      "outputs": []
    },
    {
      "cell_type": "code",
      "metadata": {},
      "source": [
        "ages = [25, 33, 19]\n",
        "sorted(ages)\n",
        "sorted(ages, reverse = True)\n",
        "\n",
        "# sort strings\n",
        "players = [\"Zoe\", \"Liam\", \"Emma\", \"Noah\", \"Olivia\"]\n",
        "srt_players = sorted(players)\n",
        "print(srt_players)"
      ],
      "id": "bb22211a",
      "execution_count": null,
      "outputs": []
    },
    {
      "cell_type": "markdown",
      "metadata": {},
      "source": [
        "# Data structure\n",
        "\n",
        "|    | Mutable   | Ordered | Indexing | Duplicates|\n",
        "|---------|-----|-----|------|---|\n",
        "| Lists   | Yes | Yes| Yes| Yes |\n",
        "| Tuples  |  - | Yes |  Yes| Yes |\n",
        "| Sets    | Yes  | - |  -   | - |\n",
        "\n",
        "\n",
        "\n",
        "## Lists\n",
        "\n",
        "Square brackets"
      ],
      "id": "b30a5ac3"
    },
    {
      "cell_type": "code",
      "metadata": {},
      "source": [
        "list1 = ['tea', 'jam', 'scone']\n",
        "list1\n",
        "\n",
        "# different types of data can be mixed\n",
        "list2 = ['tea', 20, True]\n",
        "list2"
      ],
      "id": "acf78372",
      "execution_count": null,
      "outputs": []
    },
    {
      "cell_type": "markdown",
      "metadata": {},
      "source": [
        "Index starts from 0"
      ],
      "id": "abe266bd"
    },
    {
      "cell_type": "code",
      "metadata": {},
      "source": [
        "list1[0]"
      ],
      "id": "aa4d033c",
      "execution_count": null,
      "outputs": []
    },
    {
      "cell_type": "markdown",
      "metadata": {},
      "source": [
        "Lists are **mutable**, you can change the values in the list after it's created."
      ],
      "id": "c3af40b2"
    },
    {
      "cell_type": "code",
      "metadata": {},
      "source": [
        "list1[0] = 'milk'\n",
        "list1"
      ],
      "id": "aa432b0c",
      "execution_count": null,
      "outputs": []
    },
    {
      "cell_type": "markdown",
      "metadata": {},
      "source": [
        "Index can also be used on a **string**. However strings are **immutable**: we can not replace a character with another."
      ],
      "id": "5c889313"
    },
    {
      "cell_type": "code",
      "metadata": {},
      "source": [
        "string = 'milk'\n",
        "string[3] # prints the 4th character"
      ],
      "id": "84157368",
      "execution_count": null,
      "outputs": []
    },
    {
      "cell_type": "markdown",
      "metadata": {},
      "source": [
        "## Slicing\n",
        "\n",
        "The stopping index is exclusive: `[0:2]` prints out the 1st and 2nd element. "
      ],
      "id": "0f1ef38e"
    },
    {
      "cell_type": "code",
      "metadata": {},
      "source": [
        "animals =[\"cat\", \"dog\", \"bird\", \"cow\"]\n",
        "print(animals[0:2]) # excludes 0, takes 1st and 2nd\n",
        "print(animals[1:3]) # excludes 1, takes 2nd and 3rd"
      ],
      "id": "0130a7b1",
      "execution_count": null,
      "outputs": []
    },
    {
      "cell_type": "markdown",
      "metadata": {},
      "source": [
        "The immediate two indices prints out only one value."
      ],
      "id": "49630291"
    },
    {
      "cell_type": "code",
      "metadata": {},
      "source": [
        "print(animals[0:1]) # 1st\n",
        "print(animals[2:3]) # 3rd"
      ],
      "id": "9d6a4a22",
      "execution_count": null,
      "outputs": []
    },
    {
      "cell_type": "markdown",
      "metadata": {},
      "source": [
        "A easier way to remember this for `[a:b]`, start counting from `[a+1:b]`. Example: `[3:5]` becomes the 4th and 5th; `[2:3]` becomes 3rd and 3rd - just the 3rd.\n",
        "\n",
        "Ignoring the starting index or stopping index"
      ],
      "id": "58ef1e85"
    },
    {
      "cell_type": "code",
      "metadata": {},
      "source": [
        "cart = ['lamp', 'candles', 'chair', 'carpet']\n",
        "print(cart[:2]) # stopping at 2nd\n",
        "print(cart[1:]) # starting at 2nd"
      ],
      "id": "c86f318e",
      "execution_count": null,
      "outputs": []
    },
    {
      "cell_type": "markdown",
      "metadata": {},
      "source": [
        "Negative indexing"
      ],
      "id": "d02174fe"
    },
    {
      "cell_type": "code",
      "metadata": {},
      "source": [
        "print(cart[-1]) # last one\n",
        "print(cart[-3:]) # last 3"
      ],
      "id": "febd27cd",
      "execution_count": null,
      "outputs": []
    },
    {
      "cell_type": "code",
      "metadata": {},
      "source": [
        "cart = ['lamp', 'candles', 'chair', 'carpet']\n",
        "print(cart[1:-1])"
      ],
      "id": "242cc125",
      "execution_count": null,
      "outputs": []
    },
    {
      "cell_type": "code",
      "metadata": {},
      "source": [
        "x = 15\n",
        "x += 5\n",
        "print(x)\n",
        "\n",
        "prices = [15, 19, 24, 8, 5]\n",
        "for i in prices:\n",
        "  i += 5\n",
        "  print(i)"
      ],
      "id": "04cc2e83",
      "execution_count": null,
      "outputs": []
    },
    {
      "cell_type": "markdown",
      "metadata": {},
      "source": [
        "## List comprehension\n",
        "\n",
        "Syntax: `<variable> = [<expression> for <item> in <iterable>]`\n"
      ],
      "id": "16d30994"
    },
    {
      "cell_type": "code",
      "metadata": {},
      "source": [
        "nums = []\n",
        "for x in range(1,11):\n",
        "  nums.append(x)\n",
        "print(nums)\n",
        "\n",
        "# alternatively,\n",
        "nums = [x for x in range(1, 11)]\n",
        "nums"
      ],
      "id": "89fcfbd2",
      "execution_count": null,
      "outputs": []
    },
    {
      "cell_type": "markdown",
      "metadata": {},
      "source": [
        "`<variable> = [<expression> for <item> in <iterable>]`"
      ],
      "id": "3ca0e1ef"
    },
    {
      "cell_type": "code",
      "metadata": {},
      "source": [
        "nums = [x*2 for x in range(10)]\n",
        "nums\n",
        "\n",
        "tags = ['travel', 'vacation']\n",
        "hashtags = ['#' + x for x in tags]\n",
        "hashtags\n",
        "\n",
        "# capitalise\n",
        "Tags = [x.capitalize() for x in tags]\n",
        "Tags"
      ],
      "id": "43c831e2",
      "execution_count": null,
      "outputs": []
    },
    {
      "cell_type": "markdown",
      "metadata": {},
      "source": [
        "Can combine conditions too "
      ],
      "id": "ebb3eb2c"
    },
    {
      "cell_type": "code",
      "metadata": {},
      "source": [
        "users = [\"Brandon\", \"Emma\", \"Brian\", \"Sophia\", \"Bella\", \"Ethan\", \"Ava\", \"Benjamin\", \"Mia\", \"Chloe\"]\n",
        "group = [x for x in users if x[0] == \"B\"]\n",
        "print(group)"
      ],
      "id": "fa3085de",
      "execution_count": null,
      "outputs": []
    },
    {
      "cell_type": "markdown",
      "metadata": {},
      "source": [
        "## Tuples `()`\n",
        "\n",
        "Use parentheses. Tuples are **immutable**, they are useful when data shouldn't be accidentally modified. Therefore you can not use `append` functions on tuples."
      ],
      "id": "28d77650"
    },
    {
      "cell_type": "code",
      "metadata": {},
      "source": [
        "b_date = (21, 'May', 2004)\n",
        "b_date[1]"
      ],
      "id": "8dca294f",
      "execution_count": null,
      "outputs": []
    },
    {
      "cell_type": "code",
      "metadata": {},
      "source": [
        "scores = (7, 9, 9, 8, 9)\n",
        "print('# of 7:', scores.count(7))\n",
        "print('# of 9:', scores.count(9))"
      ],
      "id": "97ee11bf",
      "execution_count": null,
      "outputs": []
    },
    {
      "cell_type": "markdown",
      "metadata": {},
      "source": [
        "**Unpacking** in tuple. The length needs to be matched; however if you want to deal with unknown number of elements, can use `*`. After unpacking, the elements becomes a `list []`. "
      ],
      "id": "0408df60"
    },
    {
      "cell_type": "code",
      "metadata": {},
      "source": [
        "grades = (76, 81, 96)\n",
        "math, history, art = grades\n",
        "print(math)\n",
        "math, *others = grades\n",
        "print(others)"
      ],
      "id": "a8e66513",
      "execution_count": null,
      "outputs": []
    },
    {
      "cell_type": "markdown",
      "metadata": {},
      "source": [
        "## Sets `{}`\n",
        "\n",
        "\n",
        "With curly brackets. Sets are **unordered** so does not support indexing or slicing. "
      ],
      "id": "4b078f7a"
    },
    {
      "cell_type": "code",
      "metadata": {},
      "source": [
        "guests = {\"Mery\", \"Anna\", \"Jonathan\"}\n",
        "print(guests)\n",
        "# print(guests[0]) #error"
      ],
      "id": "3a661ad9",
      "execution_count": null,
      "outputs": []
    },
    {
      "cell_type": "markdown",
      "metadata": {},
      "source": [
        "Sets can not have duplicates, and duplicates are automatically ignored"
      ],
      "id": "694a76a7"
    },
    {
      "cell_type": "code",
      "metadata": {},
      "source": [
        "friends = {'Anna', 'Mery', 'Mery', 'Jonathan'}\n",
        "print(friends)"
      ],
      "id": "60aad347",
      "execution_count": null,
      "outputs": []
    },
    {
      "cell_type": "markdown",
      "metadata": {},
      "source": [
        "Sets are mutable, so you can `add` and `remove` items. However, `append` does not work on sets since they are unordered."
      ],
      "id": "e03dab6a"
    },
    {
      "cell_type": "code",
      "metadata": {},
      "source": [
        "guests = {\"Mery\", \"Anna\", \"Jonathan\"}\n",
        "guests.add('Robert')\n",
        "guests.remove('Mery')\n",
        "print(guests)"
      ],
      "id": "d3b0632b",
      "execution_count": null,
      "outputs": []
    },
    {
      "cell_type": "markdown",
      "metadata": {},
      "source": [
        "To clear the set, "
      ],
      "id": "dbea0573"
    },
    {
      "cell_type": "code",
      "metadata": {},
      "source": [
        "guests.clear()\n",
        "print(guests)"
      ],
      "id": "6de8d75e",
      "execution_count": null,
      "outputs": []
    },
    {
      "cell_type": "markdown",
      "metadata": {},
      "source": [
        "To join sets, use `set1.union(set2)`. This ignores the duplicates. To find the element only in set 1 but not set 2, use `set1.difference(set2)`"
      ],
      "id": "48a0b195"
    },
    {
      "cell_type": "code",
      "metadata": {},
      "source": [
        "set1 = {'apple', 'banana'}\n",
        "set2 = {'banana', 'cherry'}\n",
        "combined_set = set1.union(set2)\n",
        "print(combined_set)\n",
        "unique_1 = set1.difference(set2)\n",
        "unique_2 = set2.difference(set1)\n",
        "print([unique_1, unique_2]) # print toether"
      ],
      "id": "cd2eb63d",
      "execution_count": null,
      "outputs": []
    },
    {
      "cell_type": "markdown",
      "metadata": {},
      "source": [
        "## Dictionary\n",
        "\n",
        "The values can be of any type, including a list. The keys has to be immutable."
      ],
      "id": "add1672c"
    },
    {
      "cell_type": "code",
      "metadata": {},
      "source": [
        "product = {\n",
        "  'name': 'pen',\n",
        "  'is_red':True,\n",
        "  'price': 79\n",
        "}\n",
        "print(product)"
      ],
      "id": "d517c151",
      "execution_count": null,
      "outputs": []
    },
    {
      "cell_type": "markdown",
      "metadata": {},
      "source": [
        "When the key is a string, it needs to go with quotation. "
      ],
      "id": "c5bb7ef3"
    },
    {
      "cell_type": "code",
      "metadata": {},
      "source": [
        "dancer = {\n",
        "  'name' : 'maria',\n",
        "  'points' : [9, 10, 7]\n",
        "}\n",
        "dancer"
      ],
      "id": "69529c3e",
      "execution_count": null,
      "outputs": []
    },
    {
      "cell_type": "markdown",
      "metadata": {},
      "source": [
        "The key has to be unique. If duplicate, the values will be overwritten. "
      ],
      "id": "054fdae4"
    },
    {
      "cell_type": "code",
      "metadata": {},
      "source": [
        "contact = {\n",
        "  'name' : 'maria',\n",
        "  'company': 'Google',\n",
        "  'company': 'facebook'\n",
        "}\n",
        "contact"
      ],
      "id": "62892f86",
      "execution_count": null,
      "outputs": []
    },
    {
      "cell_type": "markdown",
      "metadata": {},
      "source": [
        "To access the values, use `['key']`"
      ],
      "id": "560ba9e4"
    },
    {
      "cell_type": "code",
      "metadata": {},
      "source": [
        "contact['company']\n",
        "contact.get('company')\n",
        "contact.get('baba', 'puff') # if baba does not exist, returns puff "
      ],
      "id": "9a80c3c7",
      "execution_count": null,
      "outputs": []
    },
    {
      "cell_type": "code",
      "metadata": {},
      "source": [
        "contact.keys()\n",
        "contact.values()\n",
        "contact.items() # all pairs"
      ],
      "id": "60724506",
      "execution_count": null,
      "outputs": []
    },
    {
      "cell_type": "markdown",
      "metadata": {},
      "source": [
        "Change values for dictionary with `update()`"
      ],
      "id": "12f43bf7"
    },
    {
      "cell_type": "code",
      "metadata": {},
      "source": [
        "user = {\n",
        "  'name': 'Albert',\n",
        "  'age': 29\n",
        "}\n",
        "user.update({'age': 30})\n",
        "print(user['age'])\n",
        "print(user.items())"
      ],
      "id": "b9d4a9fc",
      "execution_count": null,
      "outputs": []
    },
    {
      "cell_type": "markdown",
      "metadata": {},
      "source": [
        "`pop()` removes item with specified key name"
      ],
      "id": "b890a4a8"
    },
    {
      "cell_type": "code",
      "metadata": {},
      "source": [
        "car = {\n",
        "  'brand': 'Ford',\n",
        "  'model': 'mustang',\n",
        "  'color': 'red'\n",
        "}\n",
        "# remove color key\n",
        "car.pop('color')\n",
        "print(car)\n",
        "# check if values are in the dictionary\n",
        "'mustang' in car.values()"
      ],
      "id": "008bea0c",
      "execution_count": null,
      "outputs": []
    },
    {
      "cell_type": "markdown",
      "metadata": {},
      "source": [
        "Combined with loops, it returns the keys (not values)"
      ],
      "id": "51b9a6b7"
    },
    {
      "cell_type": "code",
      "metadata": {},
      "source": [
        "car = {\n",
        "  'brand': 'Ford',\n",
        "  'model': 'mustang',\n",
        "  'color': 'red'\n",
        "}\n",
        "for i in car:\n",
        "  print(i)\n",
        "\n",
        "for i in car.values(): # this prints the values\n",
        "  print(i)\n",
        "\n",
        "for i in car.items(): # this prints the pairs\n",
        "  print(i)"
      ],
      "id": "5014e969",
      "execution_count": null,
      "outputs": []
    },
    {
      "cell_type": "markdown",
      "metadata": {},
      "source": [
        "Unpack dictionary with `**`"
      ],
      "id": "800404a7"
    },
    {
      "cell_type": "code",
      "metadata": {},
      "source": [
        "dict1 = {'a': 1, 'b': 2}\n",
        "dict2 = {'c': 3, 'd': 4}\n",
        "merged_dict = {**dict1, **dict2}\n",
        "print(merged_dict)"
      ],
      "id": "424dc8d0",
      "execution_count": null,
      "outputs": []
    }
  ],
  "metadata": {
    "kernelspec": {
      "name": "python3",
      "language": "python",
      "display_name": "Python 3 (ipykernel)",
      "path": "/Users/chizhang/.pyenv/versions/3.12.7/envs/mypydev312/share/jupyter/kernels/python3"
    }
  },
  "nbformat": 4,
  "nbformat_minor": 5
}