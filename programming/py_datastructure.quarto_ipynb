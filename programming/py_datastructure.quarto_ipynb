{
  "cells": [
    {
      "cell_type": "markdown",
      "metadata": {},
      "source": [
        "---\n",
        "title: \"Python data structure\"\n",
        "description: |\n",
        "  Python basics\n",
        "author: \"Chi Zhang\"\n",
        "date: \"2024-12-02\"\n",
        "categories: [Python]\n",
        "sidebar: false\n",
        "code-block-bg: true\n",
        "code-block-border-left: true\n",
        "jupyter: python3\n",
        "format: \n",
        "  html:\n",
        "    toc: true\n",
        "    toc-depth: 3\n",
        "    code-fold: false\n",
        "    code-tools: false\n",
        "    code-annotations: select\n",
        "---\n",
        "\n",
        "> Resources: [Python Data Science Handbook](https://jakevdp.github.io/PythonDataScienceHandbook/) by Jake VanderPlas\n",
        "\n",
        "\n",
        "### Strings"
      ],
      "id": "b8c92377"
    },
    {
      "cell_type": "code",
      "metadata": {},
      "source": [
        "print('Winter' + 'Park')"
      ],
      "id": "0897ce9a",
      "execution_count": null,
      "outputs": []
    },
    {
      "cell_type": "markdown",
      "metadata": {},
      "source": [
        "Check data types"
      ],
      "id": "6475779f"
    },
    {
      "cell_type": "code",
      "metadata": {},
      "source": [
        "movie = 'Matrix'\n",
        "print(type(movie))"
      ],
      "id": "6c84e4a9",
      "execution_count": null,
      "outputs": []
    },
    {
      "cell_type": "code",
      "metadata": {},
      "source": [
        "channel = 'cnn'\n",
        "print(channel.upper())  # CNN\n",
        "print(channel.capitalize()) # Cnn\n",
        "print(channel.find('c')) # first\n",
        "print(len(channel)) "
      ],
      "id": "7ec22e32",
      "execution_count": null,
      "outputs": []
    },
    {
      "cell_type": "markdown",
      "metadata": {},
      "source": [
        "### Useful functions"
      ],
      "id": "57066db0"
    },
    {
      "cell_type": "code",
      "metadata": {},
      "source": [
        "movies = ['Avatar', 'Titanic', 'Alien']\n",
        "movies.append('Avengers')\n",
        "movies.insert(2, 'Terminator')\n",
        "print(movies[3])"
      ],
      "id": "0ff2e5c7",
      "execution_count": null,
      "outputs": []
    },
    {
      "cell_type": "code",
      "metadata": {},
      "source": [
        "ages = [25, 33, 19]\n",
        "sorted(ages)\n",
        "sorted(ages, reverse = True)\n",
        "\n",
        "# sort strings\n",
        "players = [\"Zoe\", \"Liam\", \"Emma\", \"Noah\", \"Olivia\"]\n",
        "srt_players = sorted(players)\n",
        "print(srt_players)"
      ],
      "id": "f6479eb8",
      "execution_count": null,
      "outputs": []
    },
    {
      "cell_type": "markdown",
      "metadata": {},
      "source": [
        "# Data structure\n",
        "\n",
        "|    | Mutable   | Ordered | Indexing | Duplicates|\n",
        "|---------|-----|-----|------|---|\n",
        "| Lists   | Yes | Yes| Yes| Yes |\n",
        "| Tuples  |  - | Yes |  Yes| Yes |\n",
        "| Sets    | Yes  | - |  -   | - |\n",
        "\n",
        "\n",
        "\n",
        "## Lists\n",
        "\n",
        "Square brackets"
      ],
      "id": "50874a2a"
    },
    {
      "cell_type": "code",
      "metadata": {},
      "source": [
        "list1 = ['tea', 'jam', 'scone']\n",
        "list1\n",
        "\n",
        "# different types of data can be mixed\n",
        "list2 = ['tea', 20, True]\n",
        "list2"
      ],
      "id": "7f9f82f8",
      "execution_count": null,
      "outputs": []
    },
    {
      "cell_type": "markdown",
      "metadata": {},
      "source": [
        "Index starts from 0"
      ],
      "id": "d3cc8f16"
    },
    {
      "cell_type": "code",
      "metadata": {},
      "source": [
        "list1[0]"
      ],
      "id": "d9027920",
      "execution_count": null,
      "outputs": []
    },
    {
      "cell_type": "markdown",
      "metadata": {},
      "source": [
        "Lists are **mutable**, you can change the values in the list after it's created."
      ],
      "id": "7b14263a"
    },
    {
      "cell_type": "code",
      "metadata": {},
      "source": [
        "list1[0] = 'milk'\n",
        "list1"
      ],
      "id": "165fca2b",
      "execution_count": null,
      "outputs": []
    },
    {
      "cell_type": "markdown",
      "metadata": {},
      "source": [
        "Index can also be used on a **string**. However strings are **immutable**: we can not replace a character with another."
      ],
      "id": "169eb28e"
    },
    {
      "cell_type": "code",
      "metadata": {},
      "source": [
        "string = 'milk'\n",
        "string[3] # prints the 4th character"
      ],
      "id": "3496b952",
      "execution_count": null,
      "outputs": []
    },
    {
      "cell_type": "markdown",
      "metadata": {},
      "source": [
        "## Slicing\n",
        "\n",
        "The stopping index is exclusive: `[0:2]` prints out the 1st and 2nd element. "
      ],
      "id": "88bb517f"
    },
    {
      "cell_type": "code",
      "metadata": {},
      "source": [
        "animals =[\"cat\", \"dog\", \"bird\", \"cow\"]\n",
        "print(animals[0:2]) # excludes 0, takes 1st and 2nd\n",
        "print(animals[1:3]) # excludes 1, takes 2nd and 3rd"
      ],
      "id": "f02f0db5",
      "execution_count": null,
      "outputs": []
    },
    {
      "cell_type": "markdown",
      "metadata": {},
      "source": [
        "The immediate two indices prints out only one value."
      ],
      "id": "4c13b2e7"
    },
    {
      "cell_type": "code",
      "metadata": {},
      "source": [
        "print(animals[0:1]) # 1st\n",
        "print(animals[2:3]) # 3rd"
      ],
      "id": "dc2d317b",
      "execution_count": null,
      "outputs": []
    },
    {
      "cell_type": "markdown",
      "metadata": {},
      "source": [
        "A easier way to remember this for `[a:b]`, start counting from `[a+1:b]`. Example: `[3:5]` becomes the 4th and 5th; `[2:3]` becomes 3rd and 3rd - just the 3rd.\n",
        "\n",
        "Ignoring the starting index or stopping index"
      ],
      "id": "68df6527"
    },
    {
      "cell_type": "code",
      "metadata": {},
      "source": [
        "cart = ['lamp', 'candles', 'chair', 'carpet']\n",
        "print(cart[:2]) # stopping at 2nd\n",
        "print(cart[1:]) # starting at 2nd"
      ],
      "id": "26623628",
      "execution_count": null,
      "outputs": []
    },
    {
      "cell_type": "markdown",
      "metadata": {},
      "source": [
        "Negative indexing"
      ],
      "id": "29d08770"
    },
    {
      "cell_type": "code",
      "metadata": {},
      "source": [
        "print(cart[-1]) # last one\n",
        "print(cart[-3:]) # last 3"
      ],
      "id": "284c5937",
      "execution_count": null,
      "outputs": []
    },
    {
      "cell_type": "code",
      "metadata": {},
      "source": [
        "cart = ['lamp', 'candles', 'chair', 'carpet']\n",
        "print(cart[1:-1])"
      ],
      "id": "31d6ed98",
      "execution_count": null,
      "outputs": []
    },
    {
      "cell_type": "code",
      "metadata": {},
      "source": [
        "x = 15\n",
        "x += 5\n",
        "print(x)\n",
        "\n",
        "prices = [15, 19, 24, 8, 5]\n",
        "for i in prices:\n",
        "  i += 5\n",
        "  print(i)"
      ],
      "id": "7f806fc1",
      "execution_count": null,
      "outputs": []
    },
    {
      "cell_type": "markdown",
      "metadata": {},
      "source": [
        "## List comprehension\n",
        "\n",
        "Syntax: `<variable> = [<expression> for <item> in <iterable>]`\n"
      ],
      "id": "b4a9a59d"
    },
    {
      "cell_type": "code",
      "metadata": {},
      "source": [
        "nums = []\n",
        "for x in range(1,11):\n",
        "  nums.append(x)\n",
        "print(nums)\n",
        "\n",
        "# alternatively,\n",
        "nums = [x for x in range(1, 11)]\n",
        "nums"
      ],
      "id": "bd303284",
      "execution_count": null,
      "outputs": []
    },
    {
      "cell_type": "markdown",
      "metadata": {},
      "source": [
        "`<variable> = [<expression> for <item> in <iterable>]`"
      ],
      "id": "b0d30cac"
    },
    {
      "cell_type": "code",
      "metadata": {},
      "source": [
        "nums = [x*2 for x in range(10)]\n",
        "nums\n",
        "\n",
        "tags = ['travel', 'vacation']\n",
        "hashtags = ['#' + x for x in tags]\n",
        "hashtags\n",
        "\n",
        "# capitalise\n",
        "Tags = [x.capitalize() for x in tags]\n",
        "Tags"
      ],
      "id": "a763c009",
      "execution_count": null,
      "outputs": []
    },
    {
      "cell_type": "markdown",
      "metadata": {},
      "source": [
        "Can combine conditions too "
      ],
      "id": "4550b031"
    },
    {
      "cell_type": "code",
      "metadata": {},
      "source": [
        "users = [\"Brandon\", \"Emma\", \"Brian\", \"Sophia\", \"Bella\", \"Ethan\", \"Ava\", \"Benjamin\", \"Mia\", \"Chloe\"]\n",
        "group = [x for x in users if x[0] == \"B\"]\n",
        "print(group)"
      ],
      "id": "d63c8986",
      "execution_count": null,
      "outputs": []
    },
    {
      "cell_type": "markdown",
      "metadata": {},
      "source": [
        "## Tuples `()`\n",
        "\n",
        "Use parentheses. Tuples are **immutable**, they are useful when data shouldn't be accidentally modified. Therefore you can not use `append` functions on tuples."
      ],
      "id": "e4c99fc6"
    },
    {
      "cell_type": "code",
      "metadata": {},
      "source": [
        "b_date = (21, 'May', 2004)\n",
        "b_date[1]"
      ],
      "id": "e4f91bfb",
      "execution_count": null,
      "outputs": []
    },
    {
      "cell_type": "code",
      "metadata": {},
      "source": [
        "scores = (7, 9, 9, 8, 9)\n",
        "print('# of 7:', scores.count(7))\n",
        "print('# of 9:', scores.count(9))"
      ],
      "id": "4c91d494",
      "execution_count": null,
      "outputs": []
    },
    {
      "cell_type": "markdown",
      "metadata": {},
      "source": [
        "**Unpacking** in tuple. The length needs to be matched; however if you want to deal with unknown number of elements, can use `*`. After unpacking, the elements becomes a `list []`. "
      ],
      "id": "18a05035"
    },
    {
      "cell_type": "code",
      "metadata": {},
      "source": [
        "grades = (76, 81, 96)\n",
        "math, history, art = grades\n",
        "print(math)\n",
        "math, *others = grades\n",
        "print(others)"
      ],
      "id": "3949c69c",
      "execution_count": null,
      "outputs": []
    },
    {
      "cell_type": "markdown",
      "metadata": {},
      "source": [
        "## Sets `{}`\n",
        "\n",
        "\n",
        "With curly brackets. Sets are **unordered** so does not support indexing or slicing. "
      ],
      "id": "abf182fc"
    },
    {
      "cell_type": "code",
      "metadata": {},
      "source": [
        "guests = {\"Mery\", \"Anna\", \"Jonathan\"}\n",
        "print(guests)\n",
        "# print(guests[0]) #error"
      ],
      "id": "8e7e3e59",
      "execution_count": null,
      "outputs": []
    },
    {
      "cell_type": "markdown",
      "metadata": {},
      "source": [
        "Sets can not have duplicates, and duplicates are automatically ignored"
      ],
      "id": "4ace5e0d"
    },
    {
      "cell_type": "code",
      "metadata": {},
      "source": [
        "friends = {'Anna', 'Mery', 'Mery', 'Jonathan'}\n",
        "print(friends)"
      ],
      "id": "dc05827b",
      "execution_count": null,
      "outputs": []
    },
    {
      "cell_type": "markdown",
      "metadata": {},
      "source": [
        "Sets are mutable, so you can `add` and `remove` items. However, `append` does not work on sets since they are unordered."
      ],
      "id": "b71b41ff"
    },
    {
      "cell_type": "code",
      "metadata": {},
      "source": [
        "guests = {\"Mery\", \"Anna\", \"Jonathan\"}\n",
        "guests.add('Robert')\n",
        "guests.remove('Mery')\n",
        "print(guests)"
      ],
      "id": "e0b1cd9d",
      "execution_count": null,
      "outputs": []
    },
    {
      "cell_type": "markdown",
      "metadata": {},
      "source": [
        "To clear the set, "
      ],
      "id": "5b20d412"
    },
    {
      "cell_type": "code",
      "metadata": {},
      "source": [
        "guests.clear()\n",
        "print(guests)"
      ],
      "id": "00c90337",
      "execution_count": null,
      "outputs": []
    },
    {
      "cell_type": "markdown",
      "metadata": {},
      "source": [
        "To join sets, use `set1.union(set2)`. This ignores the duplicates. To find the element only in set 1 but not set 2, use `set1.difference(set2)`"
      ],
      "id": "2f080fe6"
    },
    {
      "cell_type": "code",
      "metadata": {},
      "source": [
        "set1 = {'apple', 'banana'}\n",
        "set2 = {'banana', 'cherry'}\n",
        "combined_set = set1.union(set2)\n",
        "print(combined_set)\n",
        "unique_1 = set1.difference(set2)\n",
        "unique_2 = set2.difference(set1)\n",
        "print([unique_1, unique_2]) # print toether"
      ],
      "id": "02c37108",
      "execution_count": null,
      "outputs": []
    },
    {
      "cell_type": "markdown",
      "metadata": {},
      "source": [
        "## Dictionary\n",
        "\n",
        "The values can be of any type, including a list. The keys has to be immutable."
      ],
      "id": "81cf4368"
    },
    {
      "cell_type": "code",
      "metadata": {},
      "source": [
        "product = {\n",
        "  'name': 'pen',\n",
        "  'is_red':True,\n",
        "  'price': 79\n",
        "}\n",
        "print(product)"
      ],
      "id": "f01343ed",
      "execution_count": null,
      "outputs": []
    },
    {
      "cell_type": "markdown",
      "metadata": {},
      "source": [
        "When the key is a string, it needs to go with quotation. "
      ],
      "id": "cf581f07"
    },
    {
      "cell_type": "code",
      "metadata": {},
      "source": [
        "dancer = {\n",
        "  'name' : 'maria',\n",
        "  'points' : [9, 10, 7]\n",
        "}\n",
        "dancer"
      ],
      "id": "31fae226",
      "execution_count": null,
      "outputs": []
    },
    {
      "cell_type": "markdown",
      "metadata": {},
      "source": [
        "The key has to be unique. If duplicate, the values will be overwritten. "
      ],
      "id": "89740f3a"
    },
    {
      "cell_type": "code",
      "metadata": {},
      "source": [
        "contact = {\n",
        "  'name' : 'maria',\n",
        "  'company': 'Google',\n",
        "  'company': 'facebook'\n",
        "}\n",
        "contact"
      ],
      "id": "cc784e59",
      "execution_count": null,
      "outputs": []
    },
    {
      "cell_type": "markdown",
      "metadata": {},
      "source": [
        "To access the values, use `['key']`"
      ],
      "id": "5931a768"
    },
    {
      "cell_type": "code",
      "metadata": {},
      "source": [
        "contact['company']\n",
        "contact.get('company')\n",
        "contact.get('baba', 'puff') # if baba does not exist, returns puff "
      ],
      "id": "1aeb4759",
      "execution_count": null,
      "outputs": []
    },
    {
      "cell_type": "code",
      "metadata": {},
      "source": [
        "contact.keys()\n",
        "contact.values()\n",
        "contact.items() # all pairs"
      ],
      "id": "2fdd7699",
      "execution_count": null,
      "outputs": []
    },
    {
      "cell_type": "markdown",
      "metadata": {},
      "source": [
        "Change values for dictionary with `update()`"
      ],
      "id": "e800f74d"
    },
    {
      "cell_type": "code",
      "metadata": {},
      "source": [
        "user = {\n",
        "  'name': 'Albert',\n",
        "  'age': 29\n",
        "}\n",
        "user.update({'age': 30})\n",
        "print(user['age'])\n",
        "print(user.items())"
      ],
      "id": "10ae8d95",
      "execution_count": null,
      "outputs": []
    },
    {
      "cell_type": "markdown",
      "metadata": {},
      "source": [
        "`pop()` removes item with specified key name"
      ],
      "id": "7419188b"
    },
    {
      "cell_type": "code",
      "metadata": {},
      "source": [
        "car = {\n",
        "  'brand': 'Ford',\n",
        "  'model': 'mustang',\n",
        "  'color': 'red'\n",
        "}\n",
        "# remove color key\n",
        "car.pop('color')\n",
        "print(car)\n",
        "# check if values are in the dictionary\n",
        "'mustang' in car.values()"
      ],
      "id": "366842c1",
      "execution_count": null,
      "outputs": []
    },
    {
      "cell_type": "markdown",
      "metadata": {},
      "source": [
        "Combined with loops, it returns the keys (not values)"
      ],
      "id": "5e301d3f"
    },
    {
      "cell_type": "code",
      "metadata": {},
      "source": [
        "car = {\n",
        "  'brand': 'Ford',\n",
        "  'model': 'mustang',\n",
        "  'color': 'red'\n",
        "}\n",
        "for i in car:\n",
        "  print(i)\n",
        "\n",
        "for i in car.values(): # this prints the values\n",
        "  print(i)\n",
        "\n",
        "for i in car.items(): # this prints the pairs\n",
        "  print(i)"
      ],
      "id": "a88c0bc5",
      "execution_count": null,
      "outputs": []
    },
    {
      "cell_type": "markdown",
      "metadata": {},
      "source": [
        "Unpack dictionary with `**`"
      ],
      "id": "be6e200f"
    },
    {
      "cell_type": "code",
      "metadata": {},
      "source": [
        "dict1 = {'a': 1, 'b': 2}\n",
        "dict2 = {'c': 3, 'd': 4}\n",
        "merged_dict = {**dict1, **dict2}\n",
        "print(merged_dict)"
      ],
      "id": "07b06975",
      "execution_count": null,
      "outputs": []
    }
  ],
  "metadata": {
    "kernelspec": {
      "name": "python3",
      "language": "python",
      "display_name": "Python 3 (ipykernel)",
      "path": "/Users/chizhang/.pyenv/versions/3.12.7/envs/mypydev312/share/jupyter/kernels/python3"
    }
  },
  "nbformat": 4,
  "nbformat_minor": 5
}